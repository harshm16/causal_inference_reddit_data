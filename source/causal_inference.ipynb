{
 "cells": [
  {
   "cell_type": "code",
   "execution_count": 1,
   "metadata": {},
   "outputs": [],
   "source": [
    "%load_ext autoreload\n",
    "%autoreload 2\n",
    "\n",
    "from os.path import join\n",
    "from os.path import abspath\n",
    "import itertools\n",
    "\n",
    "import numpy as np\n",
    "import pandas as pd\n",
    "from causalnex.structure.notears import from_pandas\n",
    "from causalnex.plots import plot_structure\n",
    "from causalnex.network import BayesianNetwork\n",
    "from causalnex.evaluation import classification_report, roc_auc\n",
    "from sklearn.model_selection import KFold\n",
    "\n",
    "from data_utils import read_tweets, read_covid, reformat_dataframe, add_missing_countries\n",
    "from sentiment import add_lang, add_sentiment\n",
    "from train_utils import discretize_df\n",
    "from train import train_bn\n",
    "from feature_extraction import get_feature_matrix\n",
    "from inference import marginal_probs\n",
    "from eval_utils import save_logs\n",
    "from configs import config as cf"
   ]
  },
  {
   "cell_type": "markdown",
   "metadata": {},
   "source": [
    "## 1 - Read official COVID-19 (https://github.com/CSSEGISandData/COVID-19) and collected tweet data "
   ]
  },
  {
   "cell_type": "code",
   "execution_count": 2,
   "metadata": {},
   "outputs": [
    {
     "data": {
      "text/html": [
       "<div>\n",
       "<style scoped>\n",
       "    .dataframe tbody tr th:only-of-type {\n",
       "        vertical-align: middle;\n",
       "    }\n",
       "\n",
       "    .dataframe tbody tr th {\n",
       "        vertical-align: top;\n",
       "    }\n",
       "\n",
       "    .dataframe thead th {\n",
       "        text-align: right;\n",
       "    }\n",
       "</style>\n",
       "<table border=\"1\" class=\"dataframe\">\n",
       "  <thead>\n",
       "    <tr style=\"text-align: right;\">\n",
       "      <th></th>\n",
       "      <th>2020-01-22</th>\n",
       "      <th>2020-01-23</th>\n",
       "      <th>2020-01-24</th>\n",
       "      <th>2020-01-25</th>\n",
       "      <th>2020-01-26</th>\n",
       "      <th>2020-01-27</th>\n",
       "      <th>2020-01-28</th>\n",
       "      <th>2020-01-29</th>\n",
       "      <th>2020-01-30</th>\n",
       "      <th>2020-01-31</th>\n",
       "      <th>...</th>\n",
       "      <th>2020-03-09</th>\n",
       "      <th>2020-03-10</th>\n",
       "      <th>2020-03-11</th>\n",
       "      <th>2020-03-12</th>\n",
       "      <th>2020-03-13</th>\n",
       "      <th>2020-03-14</th>\n",
       "      <th>2020-03-15</th>\n",
       "      <th>2020-03-16</th>\n",
       "      <th>2020-03-17</th>\n",
       "      <th>2020-03-18</th>\n",
       "    </tr>\n",
       "    <tr>\n",
       "      <th>Country</th>\n",
       "      <th></th>\n",
       "      <th></th>\n",
       "      <th></th>\n",
       "      <th></th>\n",
       "      <th></th>\n",
       "      <th></th>\n",
       "      <th></th>\n",
       "      <th></th>\n",
       "      <th></th>\n",
       "      <th></th>\n",
       "      <th></th>\n",
       "      <th></th>\n",
       "      <th></th>\n",
       "      <th></th>\n",
       "      <th></th>\n",
       "      <th></th>\n",
       "      <th></th>\n",
       "      <th></th>\n",
       "      <th></th>\n",
       "      <th></th>\n",
       "      <th></th>\n",
       "    </tr>\n",
       "  </thead>\n",
       "  <tbody>\n",
       "    <tr>\n",
       "      <th>Afghanistan</th>\n",
       "      <td>0</td>\n",
       "      <td>0</td>\n",
       "      <td>0</td>\n",
       "      <td>0</td>\n",
       "      <td>0</td>\n",
       "      <td>0</td>\n",
       "      <td>0</td>\n",
       "      <td>0</td>\n",
       "      <td>0</td>\n",
       "      <td>0</td>\n",
       "      <td>...</td>\n",
       "      <td>3</td>\n",
       "      <td>4</td>\n",
       "      <td>5</td>\n",
       "      <td>6</td>\n",
       "      <td>7</td>\n",
       "      <td>8</td>\n",
       "      <td>11</td>\n",
       "      <td>16</td>\n",
       "      <td>20</td>\n",
       "      <td>22</td>\n",
       "    </tr>\n",
       "    <tr>\n",
       "      <th>Albania</th>\n",
       "      <td>0</td>\n",
       "      <td>0</td>\n",
       "      <td>0</td>\n",
       "      <td>0</td>\n",
       "      <td>0</td>\n",
       "      <td>0</td>\n",
       "      <td>0</td>\n",
       "      <td>0</td>\n",
       "      <td>0</td>\n",
       "      <td>0</td>\n",
       "      <td>...</td>\n",
       "      <td>1</td>\n",
       "      <td>4</td>\n",
       "      <td>8</td>\n",
       "      <td>15</td>\n",
       "      <td>23</td>\n",
       "      <td>31</td>\n",
       "      <td>38</td>\n",
       "      <td>44</td>\n",
       "      <td>49</td>\n",
       "      <td>55</td>\n",
       "    </tr>\n",
       "    <tr>\n",
       "      <th>Algeria</th>\n",
       "      <td>0</td>\n",
       "      <td>0</td>\n",
       "      <td>0</td>\n",
       "      <td>0</td>\n",
       "      <td>0</td>\n",
       "      <td>0</td>\n",
       "      <td>0</td>\n",
       "      <td>0</td>\n",
       "      <td>0</td>\n",
       "      <td>0</td>\n",
       "      <td>...</td>\n",
       "      <td>19</td>\n",
       "      <td>20</td>\n",
       "      <td>20</td>\n",
       "      <td>21</td>\n",
       "      <td>23</td>\n",
       "      <td>29</td>\n",
       "      <td>37</td>\n",
       "      <td>46</td>\n",
       "      <td>54</td>\n",
       "      <td>63</td>\n",
       "    </tr>\n",
       "    <tr>\n",
       "      <th>Andorra</th>\n",
       "      <td>0</td>\n",
       "      <td>0</td>\n",
       "      <td>0</td>\n",
       "      <td>0</td>\n",
       "      <td>0</td>\n",
       "      <td>0</td>\n",
       "      <td>0</td>\n",
       "      <td>0</td>\n",
       "      <td>0</td>\n",
       "      <td>0</td>\n",
       "      <td>...</td>\n",
       "      <td>1</td>\n",
       "      <td>1</td>\n",
       "      <td>1</td>\n",
       "      <td>1</td>\n",
       "      <td>1</td>\n",
       "      <td>1</td>\n",
       "      <td>1</td>\n",
       "      <td>1</td>\n",
       "      <td>14</td>\n",
       "      <td>27</td>\n",
       "    </tr>\n",
       "    <tr>\n",
       "      <th>Angola</th>\n",
       "      <td>0</td>\n",
       "      <td>0</td>\n",
       "      <td>0</td>\n",
       "      <td>0</td>\n",
       "      <td>0</td>\n",
       "      <td>0</td>\n",
       "      <td>0</td>\n",
       "      <td>0</td>\n",
       "      <td>0</td>\n",
       "      <td>0</td>\n",
       "      <td>...</td>\n",
       "      <td>0</td>\n",
       "      <td>0</td>\n",
       "      <td>0</td>\n",
       "      <td>0</td>\n",
       "      <td>0</td>\n",
       "      <td>0</td>\n",
       "      <td>0</td>\n",
       "      <td>0</td>\n",
       "      <td>0</td>\n",
       "      <td>0</td>\n",
       "    </tr>\n",
       "  </tbody>\n",
       "</table>\n",
       "<p>5 rows × 57 columns</p>\n",
       "</div>"
      ],
      "text/plain": [
       "             2020-01-22  2020-01-23  2020-01-24  2020-01-25  2020-01-26  \\\n",
       "Country                                                                   \n",
       "Afghanistan           0           0           0           0           0   \n",
       "Albania               0           0           0           0           0   \n",
       "Algeria               0           0           0           0           0   \n",
       "Andorra               0           0           0           0           0   \n",
       "Angola                0           0           0           0           0   \n",
       "\n",
       "             2020-01-27  2020-01-28  2020-01-29  2020-01-30  2020-01-31  ...  \\\n",
       "Country                                                                  ...   \n",
       "Afghanistan           0           0           0           0           0  ...   \n",
       "Albania               0           0           0           0           0  ...   \n",
       "Algeria               0           0           0           0           0  ...   \n",
       "Andorra               0           0           0           0           0  ...   \n",
       "Angola                0           0           0           0           0  ...   \n",
       "\n",
       "             2020-03-09  2020-03-10  2020-03-11  2020-03-12  2020-03-13  \\\n",
       "Country                                                                   \n",
       "Afghanistan           3           4           5           6           7   \n",
       "Albania               1           4           8          15          23   \n",
       "Algeria              19          20          20          21          23   \n",
       "Andorra               1           1           1           1           1   \n",
       "Angola                0           0           0           0           0   \n",
       "\n",
       "             2020-03-14  2020-03-15  2020-03-16  2020-03-17  2020-03-18  \n",
       "Country                                                                  \n",
       "Afghanistan           8          11          16          20          22  \n",
       "Albania              31          38          44          49          55  \n",
       "Algeria              29          37          46          54          63  \n",
       "Andorra               1           1           1          14          27  \n",
       "Angola                0           0           0           0           0  \n",
       "\n",
       "[5 rows x 57 columns]"
      ]
     },
     "execution_count": 2,
     "metadata": {},
     "output_type": "execute_result"
    }
   ],
   "source": [
    "infected = reformat_dataframe(read_covid(cf.INFECTED_PATH))\n",
    "deaths = reformat_dataframe(read_covid(cf.DEATHS_PATH))\n",
    "infected.head(5)"
   ]
  },
  {
   "cell_type": "code",
   "execution_count": 3,
   "metadata": {},
   "outputs": [
    {
     "name": "stdout",
     "output_type": "stream",
     "text": [
      "Tweets dataframe shape=(954902, 19)\n",
      "439210 tweets do not have country information!\n",
      "Loading formatted geocoded file...\n",
      "7605 tweets that do not have country information will be discarded!\n"
     ]
    }
   ],
   "source": [
    "tweets = read_tweets(cf.TWEETS_PATH)\n",
    "add_missing_countries(tweets) # add country info if missing (inplace)\n",
    "tweets = add_lang(tweets)\n",
    "tweets = add_sentiment(tweets)"
   ]
  },
  {
   "cell_type": "markdown",
   "metadata": {},
   "source": [
    "### Groupby days"
   ]
  },
  {
   "cell_type": "code",
   "execution_count": 4,
   "metadata": {},
   "outputs": [
    {
     "name": "stderr",
     "output_type": "stream",
     "text": [
      "  0%|          | 0/12 [00:00<?, ?it/s]/home/tds/Projects/Ouz/causal_covid_public_repo/causal_twitter_modeling_covid19/source/feature_extraction.py:57: UserWarning: Infinity percentage change values found!\n",
      "  warnings.warn('Infinity percentage change values found!')\n",
      "100%|██████████| 12/12 [00:28<00:00,  2.36s/it]\n",
      "  0%|          | 0/12 [00:00<?, ?it/s]/home/tds/Projects/Ouz/causal_covid_public_repo/causal_twitter_modeling_covid19/source/feature_extraction.py:27: UserWarning: Nonzero change values found!\n",
      "  warnings.warn('Nonzero change values found!')\n",
      "/home/tds/Projects/Ouz/causal_covid_public_repo/causal_twitter_modeling_covid19/source/feature_extraction.py:52: UserWarning: Nonzero percentage change values found!\n",
      "  warnings.warn('Nonzero percentage change values found!')\n",
      "100%|██████████| 12/12 [00:28<00:00,  2.35s/it]"
     ]
    },
    {
     "name": "stdout",
     "output_type": "stream",
     "text": [
      "Feature matrix shape:(684, 12)\n"
     ]
    },
    {
     "name": "stderr",
     "output_type": "stream",
     "text": [
      "\n"
     ]
    }
   ],
   "source": [
    "# calculate daily counts\n",
    "counts_per_country = tweets.groupby(['date', 'Location']).count().reset_index()[['date', 'Location', 'id']]\n",
    "counts_per_country.rename(columns={'id': 'twitter_activity'}, inplace=True)\n",
    "\n",
    "# calculate daily average sentiment\n",
    "counts_per_country['sentiment'] = tweets.groupby(['date', 'Location']).mean().reset_index()[['sentiment']].fillna(0, inplace=False)\n",
    "\n",
    "# calculate features\n",
    "features = get_feature_matrix(counts_per_country, infected, mode='infected', country_list=cf.countries)\n",
    "features[['deaths', 'deaths_new', 'deaths_perc_change']] = get_feature_matrix(\n",
    "    counts_per_country, deaths, mode='deaths', country_list=cf.countries\n",
    ")[['deaths', 'deaths_new', 'deaths_perc_change']]\n",
    "features.drop(['date'], axis=1, inplace=True)\n",
    "print('Feature matrix shape:{}'.format(features.shape))"
   ]
  },
  {
   "cell_type": "code",
   "execution_count": 5,
   "metadata": {},
   "outputs": [
    {
     "data": {
      "text/html": [
       "<div>\n",
       "<style scoped>\n",
       "    .dataframe tbody tr th:only-of-type {\n",
       "        vertical-align: middle;\n",
       "    }\n",
       "\n",
       "    .dataframe tbody tr th {\n",
       "        vertical-align: top;\n",
       "    }\n",
       "\n",
       "    .dataframe thead th {\n",
       "        text-align: right;\n",
       "    }\n",
       "</style>\n",
       "<table border=\"1\" class=\"dataframe\">\n",
       "  <thead>\n",
       "    <tr style=\"text-align: right;\">\n",
       "      <th></th>\n",
       "      <th>infected</th>\n",
       "      <th>twitter_activity</th>\n",
       "      <th>sentiment</th>\n",
       "      <th>infected_new</th>\n",
       "      <th>infected_perc_change</th>\n",
       "      <th>restriction</th>\n",
       "      <th>over_65</th>\n",
       "      <th>twitter_usage</th>\n",
       "      <th>single_household</th>\n",
       "      <th>deaths</th>\n",
       "      <th>deaths_new</th>\n",
       "      <th>deaths_perc_change</th>\n",
       "    </tr>\n",
       "  </thead>\n",
       "  <tbody>\n",
       "    <tr>\n",
       "      <th>52</th>\n",
       "      <td>130.284130</td>\n",
       "      <td>54.054054</td>\n",
       "      <td>5.970217</td>\n",
       "      <td>22.522523</td>\n",
       "      <td>20.900322</td>\n",
       "      <td>0</td>\n",
       "      <td>19.813</td>\n",
       "      <td>10.7</td>\n",
       "      <td>43.9</td>\n",
       "      <td>0.000000</td>\n",
       "      <td>0.00000</td>\n",
       "      <td>0.000000</td>\n",
       "    </tr>\n",
       "    <tr>\n",
       "      <th>53</th>\n",
       "      <td>145.183645</td>\n",
       "      <td>56.652807</td>\n",
       "      <td>8.620610</td>\n",
       "      <td>14.899515</td>\n",
       "      <td>11.436170</td>\n",
       "      <td>0</td>\n",
       "      <td>19.813</td>\n",
       "      <td>10.7</td>\n",
       "      <td>43.9</td>\n",
       "      <td>0.173250</td>\n",
       "      <td>0.17325</td>\n",
       "      <td>100.000000</td>\n",
       "    </tr>\n",
       "    <tr>\n",
       "      <th>54</th>\n",
       "      <td>152.633403</td>\n",
       "      <td>68.780319</td>\n",
       "      <td>-15.013248</td>\n",
       "      <td>7.449757</td>\n",
       "      <td>5.131265</td>\n",
       "      <td>0</td>\n",
       "      <td>19.813</td>\n",
       "      <td>10.7</td>\n",
       "      <td>43.9</td>\n",
       "      <td>0.346500</td>\n",
       "      <td>0.17325</td>\n",
       "      <td>100.000000</td>\n",
       "    </tr>\n",
       "    <tr>\n",
       "      <th>55</th>\n",
       "      <td>163.548164</td>\n",
       "      <td>66.181566</td>\n",
       "      <td>-4.621465</td>\n",
       "      <td>10.914761</td>\n",
       "      <td>7.150965</td>\n",
       "      <td>0</td>\n",
       "      <td>19.813</td>\n",
       "      <td>10.7</td>\n",
       "      <td>43.9</td>\n",
       "      <td>0.519751</td>\n",
       "      <td>0.17325</td>\n",
       "      <td>50.000000</td>\n",
       "    </tr>\n",
       "    <tr>\n",
       "      <th>56</th>\n",
       "      <td>177.581428</td>\n",
       "      <td>65.835066</td>\n",
       "      <td>8.323642</td>\n",
       "      <td>14.033264</td>\n",
       "      <td>8.580508</td>\n",
       "      <td>0</td>\n",
       "      <td>19.813</td>\n",
       "      <td>10.7</td>\n",
       "      <td>43.9</td>\n",
       "      <td>0.693001</td>\n",
       "      <td>0.17325</td>\n",
       "      <td>33.333333</td>\n",
       "    </tr>\n",
       "  </tbody>\n",
       "</table>\n",
       "</div>"
      ],
      "text/plain": [
       "      infected  twitter_activity  sentiment  infected_new  \\\n",
       "52  130.284130         54.054054   5.970217     22.522523   \n",
       "53  145.183645         56.652807   8.620610     14.899515   \n",
       "54  152.633403         68.780319 -15.013248      7.449757   \n",
       "55  163.548164         66.181566  -4.621465     10.914761   \n",
       "56  177.581428         65.835066   8.323642     14.033264   \n",
       "\n",
       "    infected_perc_change  restriction  over_65  twitter_usage  \\\n",
       "52             20.900322            0   19.813           10.7   \n",
       "53             11.436170            0   19.813           10.7   \n",
       "54              5.131265            0   19.813           10.7   \n",
       "55              7.150965            0   19.813           10.7   \n",
       "56              8.580508            0   19.813           10.7   \n",
       "\n",
       "    single_household    deaths  deaths_new  deaths_perc_change  \n",
       "52              43.9  0.000000     0.00000            0.000000  \n",
       "53              43.9  0.173250     0.17325          100.000000  \n",
       "54              43.9  0.346500     0.17325          100.000000  \n",
       "55              43.9  0.519751     0.17325           50.000000  \n",
       "56              43.9  0.693001     0.17325           33.333333  "
      ]
     },
     "execution_count": 5,
     "metadata": {},
     "output_type": "execute_result"
    }
   ],
   "source": [
    "features.tail()"
   ]
  },
  {
   "cell_type": "markdown",
   "metadata": {},
   "source": [
    "## 2 - Structure Learning with NOTEARS"
   ]
  },
  {
   "cell_type": "code",
   "execution_count": 14,
   "metadata": {},
   "outputs": [],
   "source": [
    "# Apply NOTEARS algorithm\n",
    "graph = from_pandas(features, \n",
    "                 max_iter=200,\n",
    "                 tabu_child_nodes=cf.tabu_child_nodes,\n",
    "                 tabu_parent_nodes=cf.tabu_parent_nodes,\n",
    "                 tabu_edges=cf.tabu_edges,\n",
    "                 w_threshold=cf.edge_threshold)\n",
    "\n",
    "plot = plot_structure(graph)\n",
    "plot.draw(abspath(join(cf.LOGS_DIR, 'structure_graph.png')))"
   ]
  },
  {
   "cell_type": "markdown",
   "metadata": {},
   "source": [
    "## 3 - Causal Inference"
   ]
  },
  {
   "cell_type": "markdown",
   "metadata": {},
   "source": [
    "###  Leave-One-Country-Out Cross Validation - Fitting the Conditional Distribution of the Bayesian Network"
   ]
  },
  {
   "cell_type": "code",
   "execution_count": 17,
   "metadata": {},
   "outputs": [
    {
     "name": "stdout",
     "output_type": "stream",
     "text": [
      "Country as test = Italy, AUC = 0.976\n",
      "Country as test = Spain, AUC = 0.766\n",
      "Country as test = Germany, AUC = 0.992\n",
      "Country as test = France, AUC = 0.776\n",
      "Country as test = Switzerland, AUC = 0.789\n",
      "Country as test = United Kingdom, AUC = 0.684\n",
      "Country as test = Netherlands, AUC = 0.746\n",
      "Country as test = Norway, AUC = 0.907\n",
      "Country as test = Austria, AUC = 0.798\n",
      "Country as test = Belgium, AUC = 0.728\n",
      "Country as test = Sweden, AUC = 0.998\n",
      "Country as test = Denmark, AUC = 0.831\n",
      "\tMean AUC = 0.833\n"
     ]
    }
   ],
   "source": [
    "# map features to to \"high\" or \"low\"\n",
    "fit_feats = discretize_df(features)\n",
    "\n",
    "# LOCO\n",
    "auc_scores = []\n",
    "countries = []\n",
    "for train_country_ind, test_country_ind in KFold(n_splits=cf.n_countries).split(range(cf.n_countries)):\n",
    "    train_indices = cf.splits[train_country_ind]\n",
    "    test_indices = cf.splits[test_country_ind]\n",
    "    train_indices = list(itertools.chain.from_iterable(train_indices))\n",
    "    test_indices = list(itertools.chain.from_iterable(test_indices))\n",
    "    train = fit_feats.iloc[train_indices]\n",
    "    test = fit_feats.iloc[test_indices]\n",
    "    \n",
    "    bn = train_bn(train, graph)\n",
    "    _, auc = roc_auc(bn, test, 'twitter_activity')\n",
    "    auc_scores.append(auc)\n",
    "    countries.append(cf.countries[test_country_ind[0]])\n",
    "    print('Country as test = {}, AUC = {:.3f}'.format(cf.countries[test_country_ind[0]], auc))\n",
    "print('\\tMean AUC = {:.3f}'.format(np.mean(auc_scores)))\n",
    "save_logs(countries, auc_scores, 'aucs')"
   ]
  },
  {
   "cell_type": "markdown",
   "metadata": {},
   "source": [
    "### Inspect Marginal Likelihoods After Observations"
   ]
  },
  {
   "cell_type": "code",
   "execution_count": 19,
   "metadata": {},
   "outputs": [
    {
     "data": {
      "text/html": [
       "<div>\n",
       "<style scoped>\n",
       "    .dataframe tbody tr th:only-of-type {\n",
       "        vertical-align: middle;\n",
       "    }\n",
       "\n",
       "    .dataframe tbody tr th {\n",
       "        vertical-align: top;\n",
       "    }\n",
       "\n",
       "    .dataframe thead tr th {\n",
       "        text-align: left;\n",
       "    }\n",
       "\n",
       "    .dataframe thead tr:last-of-type th {\n",
       "        text-align: right;\n",
       "    }\n",
       "</style>\n",
       "<table border=\"1\" class=\"dataframe\">\n",
       "  <thead>\n",
       "    <tr>\n",
       "      <th>deaths_new</th>\n",
       "      <th colspan=\"8\" halign=\"left\">high</th>\n",
       "      <th colspan=\"8\" halign=\"left\">low</th>\n",
       "    </tr>\n",
       "    <tr>\n",
       "      <th>infected_new</th>\n",
       "      <th colspan=\"4\" halign=\"left\">high</th>\n",
       "      <th colspan=\"4\" halign=\"left\">low</th>\n",
       "      <th colspan=\"4\" halign=\"left\">high</th>\n",
       "      <th colspan=\"4\" halign=\"left\">low</th>\n",
       "    </tr>\n",
       "    <tr>\n",
       "      <th>restriction</th>\n",
       "      <th colspan=\"2\" halign=\"left\">0</th>\n",
       "      <th colspan=\"2\" halign=\"left\">1</th>\n",
       "      <th colspan=\"2\" halign=\"left\">0</th>\n",
       "      <th colspan=\"2\" halign=\"left\">1</th>\n",
       "      <th colspan=\"2\" halign=\"left\">0</th>\n",
       "      <th colspan=\"2\" halign=\"left\">1</th>\n",
       "      <th colspan=\"2\" halign=\"left\">0</th>\n",
       "      <th colspan=\"2\" halign=\"left\">1</th>\n",
       "    </tr>\n",
       "    <tr>\n",
       "      <th>twitter_usage</th>\n",
       "      <th>high</th>\n",
       "      <th>low</th>\n",
       "      <th>high</th>\n",
       "      <th>low</th>\n",
       "      <th>high</th>\n",
       "      <th>low</th>\n",
       "      <th>high</th>\n",
       "      <th>low</th>\n",
       "      <th>high</th>\n",
       "      <th>low</th>\n",
       "      <th>high</th>\n",
       "      <th>low</th>\n",
       "      <th>high</th>\n",
       "      <th>low</th>\n",
       "      <th>high</th>\n",
       "      <th>low</th>\n",
       "    </tr>\n",
       "    <tr>\n",
       "      <th>twitter_activity</th>\n",
       "      <th></th>\n",
       "      <th></th>\n",
       "      <th></th>\n",
       "      <th></th>\n",
       "      <th></th>\n",
       "      <th></th>\n",
       "      <th></th>\n",
       "      <th></th>\n",
       "      <th></th>\n",
       "      <th></th>\n",
       "      <th></th>\n",
       "      <th></th>\n",
       "      <th></th>\n",
       "      <th></th>\n",
       "      <th></th>\n",
       "      <th></th>\n",
       "    </tr>\n",
       "  </thead>\n",
       "  <tbody>\n",
       "    <tr>\n",
       "      <th>high</th>\n",
       "      <td>0.857143</td>\n",
       "      <td>0.125</td>\n",
       "      <td>0.8</td>\n",
       "      <td>0.444444</td>\n",
       "      <td>0.5</td>\n",
       "      <td>0.25</td>\n",
       "      <td>0.5</td>\n",
       "      <td>0.5</td>\n",
       "      <td>0.894737</td>\n",
       "      <td>0.388889</td>\n",
       "      <td>0.818182</td>\n",
       "      <td>0.833333</td>\n",
       "      <td>0.225806</td>\n",
       "      <td>0.119601</td>\n",
       "      <td>0.5</td>\n",
       "      <td>0.5</td>\n",
       "    </tr>\n",
       "    <tr>\n",
       "      <th>low</th>\n",
       "      <td>0.142857</td>\n",
       "      <td>0.875</td>\n",
       "      <td>0.2</td>\n",
       "      <td>0.555556</td>\n",
       "      <td>0.5</td>\n",
       "      <td>0.75</td>\n",
       "      <td>0.5</td>\n",
       "      <td>0.5</td>\n",
       "      <td>0.105263</td>\n",
       "      <td>0.611111</td>\n",
       "      <td>0.181818</td>\n",
       "      <td>0.166667</td>\n",
       "      <td>0.774194</td>\n",
       "      <td>0.880399</td>\n",
       "      <td>0.5</td>\n",
       "      <td>0.5</td>\n",
       "    </tr>\n",
       "  </tbody>\n",
       "</table>\n",
       "</div>"
      ],
      "text/plain": [
       "deaths_new            high                                             \\\n",
       "infected_new          high                        low                   \n",
       "restriction              0           1              0          1        \n",
       "twitter_usage         high    low high       low high   low high  low   \n",
       "twitter_activity                                                        \n",
       "high              0.857143  0.125  0.8  0.444444  0.5  0.25  0.5  0.5   \n",
       "low               0.142857  0.875  0.2  0.555556  0.5  0.75  0.5  0.5   \n",
       "\n",
       "deaths_new             low                                                    \\\n",
       "infected_new          high                                     low             \n",
       "restriction              0                   1                   0             \n",
       "twitter_usage         high       low      high       low      high       low   \n",
       "twitter_activity                                                               \n",
       "high              0.894737  0.388889  0.818182  0.833333  0.225806  0.119601   \n",
       "low               0.105263  0.611111  0.181818  0.166667  0.774194  0.880399   \n",
       "\n",
       "deaths_new                  \n",
       "infected_new                \n",
       "restriction         1       \n",
       "twitter_usage    high  low  \n",
       "twitter_activity            \n",
       "high              0.5  0.5  \n",
       "low               0.5  0.5  "
      ]
     },
     "execution_count": 19,
     "metadata": {},
     "output_type": "execute_result"
    }
   ],
   "source": [
    "bn = BayesianNetwork(graph)\n",
    "bn = bn.fit_node_states(fit_feats)\n",
    "bn = bn.fit_cpds(fit_feats, method='BayesianEstimator', bayes_prior='K2')\n",
    "bn.cpds['twitter_activity']"
   ]
  },
  {
   "cell_type": "markdown",
   "metadata": {},
   "source": [
    "#### Expected Marginal Likelihoods"
   ]
  },
  {
   "cell_type": "markdown",
   "metadata": {},
   "source": [
    "##### Lower daily infections/deaths increases the probability of percentage increase being low. This is expected simply due to mathematical definition of percentage."
   ]
  },
  {
   "cell_type": "code",
   "execution_count": 20,
   "metadata": {},
   "outputs": [
    {
     "name": "stdout",
     "output_type": "stream",
     "text": [
      "Marginal probabilities of \"deaths_perc_change\" | {'deaths_new': 'high'} = {'high': 0.4446071052335914, 'low': 0.5553928947664085}\n",
      "Marginal probabilities of \"deaths_perc_change\" | {'deaths_new': 'low'} = {'high': 0.05965902319764994, 'low': 0.9403409768023501}\n"
     ]
    }
   ],
   "source": [
    "_ = marginal_probs(bn, 'deaths_perc_change', {'deaths_new': 'high'})\n",
    "_ = marginal_probs(bn, 'deaths_perc_change', {'deaths_new': 'low'})"
   ]
  },
  {
   "cell_type": "markdown",
   "metadata": {},
   "source": [
    "#### Insightful Marginal Likelihoods That Support Domain/Expert Knowledge and Literature"
   ]
  },
  {
   "cell_type": "code",
   "execution_count": 21,
   "metadata": {},
   "outputs": [
    {
     "name": "stdout",
     "output_type": "stream",
     "text": [
      "Marginal probabilities of \"infected\" | {'over_65': 'high'} = {'high': 0.1882654368732316, 'low': 0.8117345631267684}\n",
      "Marginal probabilities of \"infected\" | {'over_65': 'low'} = {'high': 0.15213984204244294, 'low': 0.8478601579575571}\n"
     ]
    }
   ],
   "source": [
    "_ = marginal_probs(bn, 'infected', {'over_65': 'high'})\n",
    "_ = marginal_probs(bn, 'infected', {'over_65': 'low'})"
   ]
  },
  {
   "cell_type": "code",
   "execution_count": 22,
   "metadata": {},
   "outputs": [
    {
     "name": "stdout",
     "output_type": "stream",
     "text": [
      "Marginal probabilities of \"deaths_perc_change\" | {'over_65': 'high'} = {'high': 0.08110649658975573, 'low': 0.9188935034102442}\n",
      "Marginal probabilities of \"deaths_perc_change\" | {'over_65': 'low'} = {'high': 0.07511992628516961, 'low': 0.9248800737148305}\n"
     ]
    }
   ],
   "source": [
    "_ = marginal_probs(bn, 'deaths_perc_change', {'over_65': 'high'})\n",
    "_ = marginal_probs(bn, 'deaths_perc_change', {'over_65': 'low'})"
   ]
  },
  {
   "cell_type": "code",
   "execution_count": 23,
   "metadata": {},
   "outputs": [
    {
     "name": "stdout",
     "output_type": "stream",
     "text": [
      "Marginal probabilities of \"deaths_perc_change\" | {'single_household': 'high'} = {'high': 0.06778127725480429, 'low': 0.9322187227451956}\n",
      "Marginal probabilities of \"deaths_perc_change\" | {'single_household': 'low'} = {'high': 0.09137034138746945, 'low': 0.9086296586125305}\n"
     ]
    }
   ],
   "source": [
    "_ = marginal_probs(bn, 'deaths_perc_change', {'single_household': 'high'})\n",
    "_ = marginal_probs(bn, 'deaths_perc_change', {'single_household': 'low'})"
   ]
  },
  {
   "cell_type": "code",
   "execution_count": 24,
   "metadata": {},
   "outputs": [
    {
     "name": "stdout",
     "output_type": "stream",
     "text": [
      "Marginal probabilities of \"infected\" | {'single_household': 'high', 'over_65': 'low'} = {'high': 0.17826086956521736, 'low': 0.8217391304347825}\n",
      "Marginal probabilities of \"infected\" | {'single_household': 'low', 'over_65': 'high'} = {'high': 0.2413793103448276, 'low': 0.7586206896551724}\n"
     ]
    }
   ],
   "source": [
    "_ = marginal_probs(bn, 'infected', {'single_household': 'high', 'over_65': 'low'})\n",
    "_ = marginal_probs(bn, 'infected', {'single_household': 'low',  'over_65': 'high'})"
   ]
  },
  {
   "cell_type": "markdown",
   "metadata": {},
   "source": [
    "#### Insightful Marginal Likelihoods About Twitter Activity"
   ]
  },
  {
   "cell_type": "code",
   "execution_count": 25,
   "metadata": {},
   "outputs": [
    {
     "name": "stdout",
     "output_type": "stream",
     "text": [
      "Marginal probabilities of \"twitter_activity\" | {'deaths_new': 'high', 'infected_new': 'high'} = {'high': 0.495659794530057, 'low': 0.5043402054699431}\n",
      "Marginal probabilities of \"twitter_activity\" | {'deaths_new': 'low', 'infected_new': 'low'} = {'high': 0.1841544830189222, 'low': 0.8158455169810779}\n"
     ]
    }
   ],
   "source": [
    "_ = marginal_probs(bn, 'twitter_activity', {'deaths_new': 'high', 'infected_new': 'high'})\n",
    "_ = marginal_probs(bn, 'twitter_activity', {'deaths_new': 'low', 'infected_new': 'low'})"
   ]
  },
  {
   "cell_type": "code",
   "execution_count": 26,
   "metadata": {},
   "outputs": [
    {
     "name": "stdout",
     "output_type": "stream",
     "text": [
      "Marginal probabilities of \"twitter_activity\" | {'deaths_new': 'high', 'infected_new': 'high', 'twitter_usage': 'high', 'restriction': 1} = {'high': 0.8, 'low': 0.2}\n",
      "Marginal probabilities of \"twitter_activity\" | {'deaths_new': 'low', 'infected_new': 'low', 'twitter_usage': 'low', 'restriction': 0} = {'high': 0.11960132890365449, 'low': 0.8803986710963455}\n"
     ]
    }
   ],
   "source": [
    "_ = marginal_probs(bn, 'twitter_activity', {'deaths_new': 'high', 'infected_new': 'high', 'twitter_usage': 'high', 'restriction': 1})\n",
    "_ = marginal_probs(bn, 'twitter_activity', {'deaths_new': 'low', 'infected_new': 'low', 'twitter_usage': 'low', 'restriction': 0})"
   ]
  },
  {
   "cell_type": "code",
   "execution_count": 27,
   "metadata": {},
   "outputs": [
    {
     "name": "stdout",
     "output_type": "stream",
     "text": [
      "Marginal probabilities of \"twitter_activity\" | {'restriction': 1} = {'high': 0.535037907228066, 'low': 0.46496209277193384}\n",
      "Marginal probabilities of \"twitter_activity\" | {'restriction': 0} = {'high': 0.23228723227692152, 'low': 0.7677127677230785}\n"
     ]
    }
   ],
   "source": [
    "_ = marginal_probs(bn, 'twitter_activity', {'restriction': 1})\n",
    "_ = marginal_probs(bn, 'twitter_activity', {'restriction': 0})"
   ]
  },
  {
   "cell_type": "code",
   "execution_count": 28,
   "metadata": {},
   "outputs": [
    {
     "name": "stdout",
     "output_type": "stream",
     "text": [
      "Marginal probabilities of \"twitter_activity\" | {'twitter_usage': 'high'} = {'high': 0.3189333421537977, 'low': 0.6810666578462024}\n",
      "Marginal probabilities of \"twitter_activity\" | {'twitter_usage': 'low'} = {'high': 0.16682484309633536, 'low': 0.8331751569036646}\n"
     ]
    }
   ],
   "source": [
    "_ = marginal_probs(bn, 'twitter_activity', {'twitter_usage': 'high'})\n",
    "_ = marginal_probs(bn, 'twitter_activity', {'twitter_usage': 'low'})"
   ]
  },
  {
   "cell_type": "markdown",
   "metadata": {},
   "source": [
    "#### Insightful Marginal Likelihoods About Overall Sentiment"
   ]
  },
  {
   "cell_type": "code",
   "execution_count": 29,
   "metadata": {},
   "outputs": [
    {
     "name": "stdout",
     "output_type": "stream",
     "text": [
      "Marginal probabilities of \"sentiment\" | {'deaths': 'high'} = {'neg': 0.34426542253093173, 'pos': 0.6557345774690683}\n",
      "Marginal probabilities of \"sentiment\" | {'deaths': 'low'} = {'neg': 0.2904481188092652, 'pos': 0.7095518811907349}\n"
     ]
    }
   ],
   "source": [
    "_ = marginal_probs(bn, 'sentiment', {'deaths': 'high'})\n",
    "_ = marginal_probs(bn, 'sentiment', {'deaths': 'low'})"
   ]
  },
  {
   "cell_type": "code",
   "execution_count": 31,
   "metadata": {},
   "outputs": [
    {
     "name": "stdout",
     "output_type": "stream",
     "text": [
      "Marginal probabilities of \"sentiment\" | {'deaths_new': 'high'} = {'neg': 0.6241951146107049, 'pos': 0.375804885389295}\n",
      "Marginal probabilities of \"sentiment\" | {'deaths_new': 'low'} = {'neg': 0.27732727932837664, 'pos': 0.7226727206716234}\n"
     ]
    }
   ],
   "source": [
    "_ = marginal_probs(bn, 'sentiment', {'deaths_new': 'high'})\n",
    "_ = marginal_probs(bn, 'sentiment', {'deaths_new': 'low'})"
   ]
  },
  {
   "cell_type": "code",
   "execution_count": 32,
   "metadata": {},
   "outputs": [
    {
     "name": "stdout",
     "output_type": "stream",
     "text": [
      "Marginal probabilities of \"sentiment\" | {'deaths_new': 'high', 'deaths': 'high'} = {'neg': 0.3226579510355828, 'pos': 0.6773420489644172}\n",
      "Marginal probabilities of \"sentiment\" | {'deaths_new': 'low', 'deaths': 'low'} = {'neg': 0.2732286391567292, 'pos': 0.7267713608432709}\n"
     ]
    }
   ],
   "source": [
    "_ = marginal_probs(bn, 'sentiment', {'deaths_new': 'high', 'deaths': 'high'})\n",
    "_ = marginal_probs(bn, 'sentiment', {'deaths_new': 'low', 'deaths': 'low'})"
   ]
  },
  {
   "cell_type": "code",
   "execution_count": 33,
   "metadata": {},
   "outputs": [
    {
     "name": "stdout",
     "output_type": "stream",
     "text": [
      "Marginal probabilities of \"sentiment\" | {'restriction': 1} = {'neg': 0.5014243502052969, 'pos': 0.49857564979470315}\n",
      "Marginal probabilities of \"sentiment\" | {'restriction': 0} = {'neg': 0.2859699394915012, 'pos': 0.7140300605084988}\n"
     ]
    }
   ],
   "source": [
    "_ = marginal_probs(bn, 'sentiment', {'restriction': 1})\n",
    "_ = marginal_probs(bn, 'sentiment', {'restriction': 0})"
   ]
  }
 ],
 "metadata": {
  "kernelspec": {
   "display_name": "Python 3",
   "language": "python",
   "name": "python3"
  },
  "language_info": {
   "codemirror_mode": {
    "name": "ipython",
    "version": 3
   },
   "file_extension": ".py",
   "mimetype": "text/x-python",
   "name": "python",
   "nbconvert_exporter": "python",
   "pygments_lexer": "ipython3",
   "version": "3.7.6"
  }
 },
 "nbformat": 4,
 "nbformat_minor": 4
}
